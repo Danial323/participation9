{
 "cells": [
  {
   "cell_type": "markdown",
   "metadata": {},
   "source": [
    "### Note This weeks Partciaption is the last section of this notebook"
   ]
  },
  {
   "cell_type": "code",
   "execution_count": null,
   "metadata": {},
   "outputs": [],
   "source": [
    "import numpy as np\n",
    "import pandas as pd\n",
    "import sklearn \n",
    "from sklearn.tree import DecisionTreeClassifier\n",
    "from sklearn.model_selection import train_test_split\n",
    "from sklearn.neighbors import KNeighborsClassifier\n",
    "from sklearn.naive_bayes import GaussianNB\n",
    "from sklearn.linear_model import LogisticRegression\n",
    "from sklearn import svm\n",
    "from sklearn.metrics import mean_squared_error\n",
    "from scipy import stats\n",
    "from scipy.stats import t\n",
    "from sklearn.metrics import confusion_matrix"
   ]
  },
  {
   "cell_type": "code",
   "execution_count": 41,
   "metadata": {},
   "outputs": [],
   "source": [
    "test = pd.concat([df1[:500], df2[:500]])\n",
    "test.to_csv('t1_data.csv')"
   ]
  },
  {
   "cell_type": "code",
   "execution_count": 73,
   "metadata": {},
   "outputs": [],
   "source": [
    "all_preds = {}\n",
    "# load in data here\n",
    "df1 = pd.read_csv(\"imnemato-youtube[1080p]-1x-vpn-mac-clean-20201031a.csv\")\n",
    "df2old = pd.read_csv(\"vpn_browsing1.csv\")\n",
    "\n",
    "df3 = pd.read_csv(\"pgaddiso-youtube-1x-720p-vpn-linux-clean-20201102-1.csv\")\n",
    "df4old = pd.read_csv(\"vpn_browsing2.csv\")\n",
    "\n",
    "\n",
    "df5 = windows_video_vpn = pd.read_csv(\"stdoan-youtube[720p60]-1x-vpn-windows-clean-20201102.csv\")\n",
    "df6old = pd.read_csv(\"vpn_browsing3.csv\")\n",
    "\n",
    "# make sure that dataframes are in list\n",
    "list_of_frames = [df1, df2old, df3,df4old,df5,df6old]\n",
    "#add vpn dataframes to next list\n",
    "video_frames = [df1,df3,df5]\n",
    "browsing_frames = [df2old,df4old,df6old]\n",
    "\n"
   ]
  },
  {
   "cell_type": "code",
   "execution_count": 74,
   "metadata": {},
   "outputs": [],
   "source": [
    "# data cleaning\n",
    "# helper method to sum all package lengths for each entry in a column\n",
    "def package(input1):\n",
    "    sum1 = 0\n",
    "    for x in input1:\n",
    "        if x  != \"\":\n",
    "            sum1 += int(x)\n",
    "    return sum1\n",
    "\n",
    "# adds total pacakge length to all dataframes\n",
    "def packet_length(frames):\n",
    "    for j in frames:\n",
    "        j[\"sum of sizes\"] = pd.Series(j.packet_sizes.apply(lambda x: x.split(\";\"))).apply(lambda x: package(x))\n",
    "\n",
    "#label the data\n",
    "def label():\n",
    "    for x in video_frames:\n",
    "            x[\"Label\"] = 1\n",
    "    for j in browsing_frames:\n",
    "            j[\"Label\"] = 0\n"
   ]
  },
  {
   "cell_type": "code",
   "execution_count": null,
   "metadata": {},
   "outputs": [],
   "source": []
  },
  {
   "cell_type": "code",
   "execution_count": 75,
   "metadata": {},
   "outputs": [],
   "source": [
    "# labes data \n",
    "label()\n",
    "\n",
    "# total packet length\n",
    "packet_length(list_of_frames)\n",
    "\n",
    "\n",
    "\n",
    "\n"
   ]
  },
  {
   "cell_type": "code",
   "execution_count": 76,
   "metadata": {},
   "outputs": [],
   "source": [
    "def ml_model_data(frames):\n",
    "    # global_varaiables for data storage\n",
    "    X_train_df =  None\n",
    "    X_test_df  = None\n",
    "    y_train_df = None\n",
    "    y_test_df = None\n",
    "\n",
    "    for f in frames:\n",
    "        #isolate features in frames\n",
    "        X = f[[\"sum of sizes\", \"1->2Bytes\",\"2->1Bytes\"]]\n",
    "        \n",
    "        #isolate label\n",
    "        y = f[[\"Label\"]]\n",
    "        \n",
    "        #split data between training and test\n",
    "        X_train, X_test, y_train, y_test = train_test_split(X, y, test_size=0.3) \n",
    "       \n",
    "        #gatther data from all dataframes\n",
    "        X_train_df = pd.concat([X_train_df, X_train])\n",
    "        X_test_df = pd.concat([X_test_df, X_test])\n",
    "        y_train_df = pd.concat([y_train_df, y_train])\n",
    "        y_test_df = pd.concat([y_test_df, y_test])\n",
    "        \n",
    "        \n",
    "        \n",
    "    return [X_train_df,X_test_df,y_train_df,y_test_df]\n",
    "        \n",
    "    "
   ]
  },
  {
   "cell_type": "code",
   "execution_count": 77,
   "metadata": {},
   "outputs": [],
   "source": [
    "All_data = ml_model_data(list_of_frames)"
   ]
  },
  {
   "cell_type": "code",
   "execution_count": 78,
   "metadata": {},
   "outputs": [],
   "source": [
    "def logistic_predictions(ml_model_data):\n",
    "    clf = LogisticRegression()\n",
    "    clf.fit(ml_model_data[0], ml_model_data[2])\n",
    "    predictions = clf.predict(ml_model_data[1]) \n",
    "    return predictions "
   ]
  },
  {
   "cell_type": "code",
   "execution_count": 79,
   "metadata": {},
   "outputs": [],
   "source": [
    "def svm_predictions(ml_model_data):\n",
    "    clf = svm.SVC()\n",
    "    clf.fit(ml_model_data[0], ml_model_data[2])\n",
    "    predictions = clf.predict(ml_model_data[1])\n",
    "    return predictions "
   ]
  },
  {
   "cell_type": "code",
   "execution_count": 80,
   "metadata": {},
   "outputs": [],
   "source": [
    "def bayes_predictions(ml_model_data):\n",
    "    clf =  GaussianNB()\n",
    "    clf.fit(ml_model_data[0], ml_model_data[2])\n",
    "    predictions = clf.predict(ml_model_data[1])\n",
    "    return predictions "
   ]
  },
  {
   "cell_type": "code",
   "execution_count": 81,
   "metadata": {},
   "outputs": [],
   "source": [
    "def k_predictions(ml_model_data):\n",
    "    clf = KNeighborsClassifier(n_neighbors=3)\n",
    "    clf.fit(ml_model_data[0], ml_model_data[2])\n",
    "    predictions = clf.predict(ml_model_data[1])\n",
    "    return predictions "
   ]
  },
  {
   "cell_type": "code",
   "execution_count": 82,
   "metadata": {},
   "outputs": [
    {
     "name": "stderr",
     "output_type": "stream",
     "text": [
      "C:\\Users\\dania\\Anaconda3\\lib\\site-packages\\ipykernel_launcher.py:3: DataConversionWarning: A column-vector y was passed when a 1d array was expected. Please change the shape of y to (n_samples, ), for example using ravel().\n",
      "  This is separate from the ipykernel package so we can avoid doing imports until\n"
     ]
    }
   ],
   "source": [
    "k_preds = k_predictions(All_data)\n",
    "all_preds[\"k\"] = k_preds"
   ]
  },
  {
   "cell_type": "code",
   "execution_count": 83,
   "metadata": {},
   "outputs": [
    {
     "name": "stderr",
     "output_type": "stream",
     "text": [
      "C:\\Users\\dania\\Anaconda3\\lib\\site-packages\\sklearn\\utils\\validation.py:724: DataConversionWarning: A column-vector y was passed when a 1d array was expected. Please change the shape of y to (n_samples, ), for example using ravel().\n",
      "  y = column_or_1d(y, warn=True)\n"
     ]
    }
   ],
   "source": [
    "bayes_preds = bayes_predictions(All_data)\n",
    "all_preds[\"bayes\"] = bayes_preds"
   ]
  },
  {
   "cell_type": "code",
   "execution_count": 84,
   "metadata": {},
   "outputs": [
    {
     "name": "stderr",
     "output_type": "stream",
     "text": [
      "C:\\Users\\dania\\Anaconda3\\lib\\site-packages\\sklearn\\utils\\validation.py:724: DataConversionWarning: A column-vector y was passed when a 1d array was expected. Please change the shape of y to (n_samples, ), for example using ravel().\n",
      "  y = column_or_1d(y, warn=True)\n",
      "C:\\Users\\dania\\Anaconda3\\lib\\site-packages\\sklearn\\svm\\base.py:193: FutureWarning: The default value of gamma will change from 'auto' to 'scale' in version 0.22 to account better for unscaled features. Set gamma explicitly to 'auto' or 'scale' to avoid this warning.\n",
      "  \"avoid this warning.\", FutureWarning)\n"
     ]
    }
   ],
   "source": [
    "svm_preds = svm_predictions(All_data)\n",
    "all_preds[\"svm\"] = svm_preds"
   ]
  },
  {
   "cell_type": "code",
   "execution_count": 85,
   "metadata": {},
   "outputs": [
    {
     "name": "stderr",
     "output_type": "stream",
     "text": [
      "C:\\Users\\dania\\Anaconda3\\lib\\site-packages\\sklearn\\linear_model\\logistic.py:432: FutureWarning: Default solver will be changed to 'lbfgs' in 0.22. Specify a solver to silence this warning.\n",
      "  FutureWarning)\n",
      "C:\\Users\\dania\\Anaconda3\\lib\\site-packages\\sklearn\\utils\\validation.py:724: DataConversionWarning: A column-vector y was passed when a 1d array was expected. Please change the shape of y to (n_samples, ), for example using ravel().\n",
      "  y = column_or_1d(y, warn=True)\n"
     ]
    }
   ],
   "source": [
    "predictions = logistic_predictions(All_data)\n",
    "all_preds[\"LogisticRegression\"] = predictions"
   ]
  },
  {
   "cell_type": "code",
   "execution_count": 86,
   "metadata": {},
   "outputs": [],
   "source": [
    "def confidence_interval(prediction, confidence):\n",
    "    min_value = min(prediction)\n",
    "    max_value = max(prediction)\n",
    "    \n",
    "    average_list = []\n",
    "    \n",
    "    for x in range(1000):\n",
    "        samples = np.random.choice(prediction, len(prediction))\n",
    "        average_list.append(np.mean(samples))\n",
    "    \n",
    "    size = len(average_list)\n",
    "    average = np.mean(average_list)\n",
    "    st_error = stats.sem(average_list)\n",
    "    interval = st_error * t.ppf((1 + confidence)/2,size-1)\n",
    "    low = round(average- interval)\n",
    "    up = round(average +interval)\n",
    "    return (low, up)"
   ]
  },
  {
   "cell_type": "code",
   "execution_count": 87,
   "metadata": {},
   "outputs": [
    {
     "name": "stdout",
     "output_type": "stream",
     "text": [
      "k 0.850293020777837 correct\n",
      "bayes 0.7368140649973361 correct\n",
      "svm 0.8588172615876398 correct\n",
      "LogisticRegression 0.2749067661161428 correct\n"
     ]
    }
   ],
   "source": [
    "for x in all_preds:\n",
    "    percent_correct = sum(np.array(All_data[3][\"Label\"]) == np.array(all_preds[x]))/len(All_data[3][\"Label\"])\n",
    "    print(str(x) +\" \"+ str(percent_correct) + \" correct\")"
   ]
  },
  {
   "cell_type": "code",
   "execution_count": 88,
   "metadata": {},
   "outputs": [
    {
     "name": "stdout",
     "output_type": "stream",
     "text": [
      "The mean squared error of k 0.14970697922216303\n",
      "The mean squared error of bayes 0.26318593500266385\n",
      "The mean squared error of svm 0.14118273841236015\n",
      "The mean squared error of LogisticRegression 0.7250932338838573\n"
     ]
    }
   ],
   "source": [
    "for x in all_preds:\n",
    "    print(\"The mean squared error of \"+str(x) + \" \"+ str(mean_squared_error(All_data[3][\"Label\"], all_preds[x])))"
   ]
  },
  {
   "cell_type": "code",
   "execution_count": null,
   "metadata": {},
   "outputs": [],
   "source": []
  },
  {
   "cell_type": "markdown",
   "metadata": {},
   "source": [
    "## The best Model is K means, now time to see what features we can change in model"
   ]
  },
  {
   "cell_type": "code",
   "execution_count": 89,
   "metadata": {},
   "outputs": [],
   "source": [
    "def ml_model_data1(frames):\n",
    "    # global_varaiables for data storage\n",
    "    X_train_df =  None\n",
    "    X_test_df  = None\n",
    "    y_train_df = None\n",
    "    y_test_df = None\n",
    "\n",
    "    for f in frames:\n",
    "        #isolate features in frames\n",
    "        X = f[[\"sum of sizes\", \"1->2Bytes\", \"Port1\"]]\n",
    "        \n",
    "        #isolate label\n",
    "        y = f[[\"Label\"]]\n",
    "        \n",
    "        #split data between training and test\n",
    "        X_train, X_test, y_train, y_test = train_test_split(X, y, test_size=0.3) \n",
    "       \n",
    "        #gatther data from all dataframes\n",
    "        X_train_df = pd.concat([X_train_df, X_train])\n",
    "        X_test_df = pd.concat([X_test_df, X_test])\n",
    "        y_train_df = pd.concat([y_train_df, y_train])\n",
    "        y_test_df = pd.concat([y_test_df, y_test])\n",
    "        \n",
    "        \n",
    "        \n",
    "    return [X_train_df,X_test_df,y_train_df,y_test_df]\n",
    "        \n",
    "    "
   ]
  },
  {
   "cell_type": "code",
   "execution_count": 90,
   "metadata": {},
   "outputs": [],
   "source": [
    "def k_predictions1(ml_model_data):\n",
    "    clf = KNeighborsClassifier(n_neighbors=3)\n",
    "    clf.fit(ml_model_data[0], ml_model_data[2])\n",
    "    predictions = clf.predict(ml_model_data[1])\n",
    "    return predictions "
   ]
  },
  {
   "cell_type": "code",
   "execution_count": 91,
   "metadata": {},
   "outputs": [
    {
     "name": "stderr",
     "output_type": "stream",
     "text": [
      "C:\\Users\\dania\\Anaconda3\\lib\\site-packages\\ipykernel_launcher.py:3: DataConversionWarning: A column-vector y was passed when a 1d array was expected. Please change the shape of y to (n_samples, ), for example using ravel().\n",
      "  This is separate from the ipykernel package so we can avoid doing imports until\n"
     ]
    },
    {
     "data": {
      "text/plain": [
       "0.9115610015982951"
      ]
     },
     "execution_count": 91,
     "metadata": {},
     "output_type": "execute_result"
    }
   ],
   "source": [
    "All_data = ml_model_data1(list_of_frames)\n",
    "new_k = k_predictions1(All_data)\n",
    "percent_correct = sum(np.array(All_data[3][\"Label\"]) == np.array(new_k))/len(All_data[3][\"Label\"])\n",
    "percent_correct"
   ]
  },
  {
   "cell_type": "code",
   "execution_count": 92,
   "metadata": {},
   "outputs": [],
   "source": [
    "tn, fp, fn, tp = confusion_matrix(All_data[3][\"Label\"], new_k).ravel()"
   ]
  },
  {
   "cell_type": "code",
   "execution_count": 93,
   "metadata": {},
   "outputs": [
    {
     "name": "stdout",
     "output_type": "stream",
     "text": [
      "The true negatives 1307\n",
      "The true positives 404\n",
      "The False positives 54\n",
      "The False negatives 112\n"
     ]
    }
   ],
   "source": [
    "print(\"The true negatives \" + str(tn))\n",
    "print(\"The true positives \" + str(tp))\n",
    "print(\"The False positives \" + str(fp))\n",
    "print(\"The False negatives \" + str(fn))"
   ]
  },
  {
   "cell_type": "code",
   "execution_count": 94,
   "metadata": {},
   "outputs": [
    {
     "data": {
      "text/html": [
       "<div>\n",
       "<style scoped>\n",
       "    .dataframe tbody tr th:only-of-type {\n",
       "        vertical-align: middle;\n",
       "    }\n",
       "\n",
       "    .dataframe tbody tr th {\n",
       "        vertical-align: top;\n",
       "    }\n",
       "\n",
       "    .dataframe thead th {\n",
       "        text-align: right;\n",
       "    }\n",
       "</style>\n",
       "<table border=\"1\" class=\"dataframe\">\n",
       "  <thead>\n",
       "    <tr style=\"text-align: right;\">\n",
       "      <th></th>\n",
       "      <th>Label</th>\n",
       "    </tr>\n",
       "  </thead>\n",
       "  <tbody>\n",
       "    <tr>\n",
       "      <td>46</td>\n",
       "      <td>1</td>\n",
       "    </tr>\n",
       "    <tr>\n",
       "      <td>398</td>\n",
       "      <td>1</td>\n",
       "    </tr>\n",
       "    <tr>\n",
       "      <td>223</td>\n",
       "      <td>1</td>\n",
       "    </tr>\n",
       "    <tr>\n",
       "      <td>365</td>\n",
       "      <td>1</td>\n",
       "    </tr>\n",
       "    <tr>\n",
       "      <td>347</td>\n",
       "      <td>1</td>\n",
       "    </tr>\n",
       "  </tbody>\n",
       "</table>\n",
       "</div>"
      ],
      "text/plain": [
       "     Label\n",
       "46       1\n",
       "398      1\n",
       "223      1\n",
       "365      1\n",
       "347      1"
      ]
     },
     "execution_count": 94,
     "metadata": {},
     "output_type": "execute_result"
    }
   ],
   "source": [
    "All_data[3][All_data[3][\"Label\"] != new_k].head()"
   ]
  },
  {
   "cell_type": "code",
   "execution_count": 95,
   "metadata": {},
   "outputs": [
    {
     "data": {
      "text/plain": [
       "array([0, 0, 0, 1, 0, 1, 1, 1, 1, 0], dtype=int64)"
      ]
     },
     "execution_count": 95,
     "metadata": {},
     "output_type": "execute_result"
    }
   ],
   "source": [
    "new_k[:10]"
   ]
  },
  {
   "cell_type": "code",
   "execution_count": 96,
   "metadata": {},
   "outputs": [
    {
     "data": {
      "text/plain": [
       "array([1, 1, 1, 1, 1, 1, 1, 1, 1, 1], dtype=int64)"
      ]
     },
     "execution_count": 96,
     "metadata": {},
     "output_type": "execute_result"
    }
   ],
   "source": [
    "np.array(All_data[3][\"Label\"][:10])"
   ]
  },
  {
   "cell_type": "markdown",
   "metadata": {},
   "source": [
    "I seem to have false positives at index 2 and 4, and 9.  Looking at training data  I get these False postives when there is sudden change in data. The data makes labels based on the data points near it. Since there is a change in the data it ruins the pattern having it classified wrong. Kmeans looks at the algorithim near every cluster hence data fluxations can mess up algorithm when training the data."
   ]
  },
  {
   "cell_type": "markdown",
   "metadata": {},
   "source": [
    "# participation 9"
   ]
  },
  {
   "cell_type": "code",
   "execution_count": 224,
   "metadata": {},
   "outputs": [],
   "source": [
    "all_preds = {}\n",
    "# load in data here\n",
    "df1 = pd.read_csv(\"imnemato-youtube[1080p]-1x-vpn-mac-clean-20201031a.csv\")\n",
    "df2 = pd.read_csv(\"bfix1.csv\")\n",
    "\n",
    "\n",
    "df3 = pd.read_csv(\"pgaddiso-youtube-1x-720p-vpn-linux-clean-20201102-1.csv\")\n",
    "df4 = pd.read_csv(\"bfix2.csv\")\n",
    "\n",
    "\n",
    "\n",
    "df5 = windows_video_vpn = pd.read_csv(\"stdoan-youtube[720p60]-1x-vpn-windows-clean-20201102.csv\")\n",
    "df6 =  pd.read_csv(\"bfix3.csv\")\n",
    "\n",
    "\n",
    "# make sure that dataframes are in list\n",
    "list_of_frames = [df1, df2, df3,df4,df5,df6]\n",
    "#add vpn dataframes to next list\n",
    "video_frames = [df1,df3,df5]\n",
    "browsing_frames = [df2,df4,df6]\n",
    "\n"
   ]
  },
  {
   "cell_type": "markdown",
   "metadata": {},
   "source": [
    "# 1-2 Byte comparison "
   ]
  },
  {
   "cell_type": "code",
   "execution_count": 225,
   "metadata": {},
   "outputs": [
    {
     "data": {
      "text/plain": [
       "<matplotlib.axes._subplots.AxesSubplot at 0x1e01d831048>"
      ]
     },
     "execution_count": 225,
     "metadata": {},
     "output_type": "execute_result"
    },
    {
     "data": {
      "image/png": "[encoded data removed]",
      "text/plain": [
       "<Figure size 432x288 with 1 Axes>"
      ]
     },
     "metadata": {
      "needs_background": "light"
     },
     "output_type": "display_data"
    }
   ],
   "source": [
    "df4[\"1->2Bytes\"].plot()"
   ]
  },
  {
   "cell_type": "code",
   "execution_count": 226,
   "metadata": {},
   "outputs": [
    {
     "data": {
      "text/plain": [
       "<matplotlib.axes._subplots.AxesSubplot at 0x1e016795bc8>"
      ]
     },
     "execution_count": 226,
     "metadata": {},
     "output_type": "execute_result"
    },
    {
     "data": {
      "image/png": "[encoded data removed]",
      "text/plain": [
       "<Figure size 432x288 with 1 Axes>"
      ]
     },
     "metadata": {
      "needs_background": "light"
     },
     "output_type": "display_data"
    }
   ],
   "source": [
    "df4old[\"1->2Bytes\"].plot()"
   ]
  },
  {
   "cell_type": "code",
   "execution_count": 227,
   "metadata": {},
   "outputs": [
    {
     "data": {
      "text/plain": [
       "<matplotlib.axes._subplots.AxesSubplot at 0x1e01be28a48>"
      ]
     },
     "execution_count": 227,
     "metadata": {},
     "output_type": "execute_result"
    },
    {
     "data": {
      "image/png": "[encoded data removed]",
      "text/plain": [
       "<Figure size 432x288 with 1 Axes>"
      ]
     },
     "metadata": {
      "needs_background": "light"
     },
     "output_type": "display_data"
    }
   ],
   "source": [
    "df3[\"1->2Bytes\"].plot()"
   ]
  },
  {
   "cell_type": "markdown",
   "metadata": {},
   "source": [
    "# 2 to 1 byte comparison"
   ]
  },
  {
   "cell_type": "code",
   "execution_count": 228,
   "metadata": {},
   "outputs": [
    {
     "data": {
      "text/plain": [
       "<matplotlib.axes._subplots.AxesSubplot at 0x1e0167ae648>"
      ]
     },
     "execution_count": 228,
     "metadata": {},
     "output_type": "execute_result"
    },
    {
     "data": {
      "image/png": "[encoded data removed]",
      "text/plain": [
       "<Figure size 432x288 with 1 Axes>"
      ]
     },
     "metadata": {
      "needs_background": "light"
     },
     "output_type": "display_data"
    }
   ],
   "source": [
    "df4[\"2->1Bytes\"].plot()"
   ]
  },
  {
   "cell_type": "code",
   "execution_count": 229,
   "metadata": {},
   "outputs": [
    {
     "data": {
      "text/plain": [
       "<matplotlib.axes._subplots.AxesSubplot at 0x1e0165b3308>"
      ]
     },
     "execution_count": 229,
     "metadata": {},
     "output_type": "execute_result"
    },
    {
     "data": {
      "image/png": "[encoded data removed]",
      "text/plain": [
       "<Figure size 432x288 with 1 Axes>"
      ]
     },
     "metadata": {
      "needs_background": "light"
     },
     "output_type": "display_data"
    }
   ],
   "source": [
    "df4old[\"2->1Bytes\"].plot()"
   ]
  },
  {
   "cell_type": "code",
   "execution_count": 230,
   "metadata": {},
   "outputs": [
    {
     "data": {
      "text/plain": [
       "<matplotlib.axes._subplots.AxesSubplot at 0x1e01c551b08>"
      ]
     },
     "execution_count": 230,
     "metadata": {},
     "output_type": "execute_result"
    },
    {
     "data": {
      "image/png": "[encoded data removed]",
      "text/plain": [
       "<Figure size 432x288 with 1 Axes>"
      ]
     },
     "metadata": {
      "needs_background": "light"
     },
     "output_type": "display_data"
    }
   ],
   "source": [
    "df3[\"2->1Bytes\"].plot()"
   ]
  },
  {
   "cell_type": "markdown",
   "metadata": {},
   "source": [
    "# Conclusion from byte comparions \n",
    "The new data sets I uploaded have data more simlar to video browsing. While I was browing I was going on websites in which a lot of images would have to load. I made browsing data more active so it would be similar to video streaming data this will allow me to test my old alogrithim on new data to see how it holds."
   ]
  },
  {
   "cell_type": "code",
   "execution_count": 231,
   "metadata": {},
   "outputs": [],
   "source": [
    "# data cleaning\n",
    "# helper method to sum all package lengths for each entry in a column\n",
    "def package(input1):\n",
    "    sum1 = 0\n",
    "    for x in input1:\n",
    "        if x  != \"\":\n",
    "            sum1 += int(x)\n",
    "    return sum1\n",
    "\n",
    "# adds total pacakge length to all dataframes\n",
    "def packet_length(frames):\n",
    "    for j in frames:\n",
    "        j[\"sum of sizes\"] = pd.Series(j.packet_sizes.apply(lambda x: x.split(\";\"))).apply(lambda x: package(x))\n",
    "\n",
    "#label the data\n",
    "def label():\n",
    "    for x in video_frames:\n",
    "            x[\"Label\"] = 1\n",
    "    for j in browsing_frames:\n",
    "            j[\"Label\"] = 0\n"
   ]
  },
  {
   "cell_type": "code",
   "execution_count": 232,
   "metadata": {},
   "outputs": [],
   "source": [
    "# labes data \n",
    "label()\n",
    "\n",
    "# total packet length\n",
    "packet_length(list_of_frames)"
   ]
  },
  {
   "cell_type": "code",
   "execution_count": 233,
   "metadata": {},
   "outputs": [],
   "source": [
    "def ml_model_data(frames):\n",
    "    # global_varaiables for data storage\n",
    "    X_train_df =  None\n",
    "    X_test_df  = None\n",
    "    y_train_df = None\n",
    "    y_test_df = None\n",
    "\n",
    "    for f in frames:\n",
    "        #isolate features in frames\n",
    "        X = f[[\"sum of sizes\", \"1->2Bytes\",\"2->1Bytes\"]]\n",
    "        \n",
    "        #isolate label\n",
    "        y = f[[\"Label\"]]\n",
    "        \n",
    "        #split data between training and test\n",
    "        X_train, X_test, y_train, y_test = train_test_split(X, y, test_size=0.3) \n",
    "       \n",
    "        #gatther data from all dataframes\n",
    "        X_train_df = pd.concat([X_train_df, X_train])\n",
    "        X_test_df = pd.concat([X_test_df, X_test])\n",
    "        y_train_df = pd.concat([y_train_df, y_train])\n",
    "        y_test_df = pd.concat([y_test_df, y_test])\n",
    "        \n",
    "        \n",
    "        \n",
    "    return [X_train_df,X_test_df,y_train_df,y_test_df]\n",
    "        "
   ]
  },
  {
   "cell_type": "code",
   "execution_count": 234,
   "metadata": {},
   "outputs": [],
   "source": [
    "All_data = ml_model_data(list_of_frames)"
   ]
  },
  {
   "cell_type": "code",
   "execution_count": 235,
   "metadata": {},
   "outputs": [],
   "source": [
    "def logistic_predictions(ml_model_data):\n",
    "    clf = LogisticRegression()\n",
    "    clf.fit(ml_model_data[0], ml_model_data[2])\n",
    "    predictions = clf.predict(ml_model_data[1]) \n",
    "    return predictions "
   ]
  },
  {
   "cell_type": "code",
   "execution_count": 236,
   "metadata": {},
   "outputs": [],
   "source": [
    "def svm_predictions(ml_model_data):\n",
    "    clf = svm.SVC()\n",
    "    clf.fit(ml_model_data[0], ml_model_data[2])\n",
    "    predictions = clf.predict(ml_model_data[1])\n",
    "    return predictions"
   ]
  },
  {
   "cell_type": "code",
   "execution_count": 237,
   "metadata": {},
   "outputs": [],
   "source": [
    "def bayes_predictions(ml_model_data):\n",
    "    clf =  GaussianNB()\n",
    "    clf.fit(ml_model_data[0], ml_model_data[2])\n",
    "    predictions = clf.predict(ml_model_data[1])\n",
    "    return predictions "
   ]
  },
  {
   "cell_type": "code",
   "execution_count": 238,
   "metadata": {},
   "outputs": [],
   "source": [
    "def k_predictions(ml_model_data):\n",
    "    clf = KNeighborsClassifier(n_neighbors=3)\n",
    "    clf.fit(ml_model_data[0], ml_model_data[2])\n",
    "    predictions = clf.predict(ml_model_data[1])\n",
    "    return predictions "
   ]
  },
  {
   "cell_type": "code",
   "execution_count": 239,
   "metadata": {},
   "outputs": [
    {
     "name": "stderr",
     "output_type": "stream",
     "text": [
      "C:\\Users\\dania\\Anaconda3\\lib\\site-packages\\ipykernel_launcher.py:3: DataConversionWarning: A column-vector y was passed when a 1d array was expected. Please change the shape of y to (n_samples, ), for example using ravel().\n",
      "  This is separate from the ipykernel package so we can avoid doing imports until\n"
     ]
    }
   ],
   "source": [
    "k_preds = k_predictions(All_data)\n",
    "all_preds[\"k\"] = k_preds"
   ]
  },
  {
   "cell_type": "code",
   "execution_count": 240,
   "metadata": {},
   "outputs": [
    {
     "name": "stderr",
     "output_type": "stream",
     "text": [
      "C:\\Users\\dania\\Anaconda3\\lib\\site-packages\\sklearn\\utils\\validation.py:724: DataConversionWarning: A column-vector y was passed when a 1d array was expected. Please change the shape of y to (n_samples, ), for example using ravel().\n",
      "  y = column_or_1d(y, warn=True)\n"
     ]
    }
   ],
   "source": [
    "bayes_preds = bayes_predictions(All_data)\n",
    "all_preds[\"bayes\"] = bayes_preds"
   ]
  },
  {
   "cell_type": "code",
   "execution_count": 241,
   "metadata": {},
   "outputs": [
    {
     "name": "stderr",
     "output_type": "stream",
     "text": [
      "C:\\Users\\dania\\Anaconda3\\lib\\site-packages\\sklearn\\utils\\validation.py:724: DataConversionWarning: A column-vector y was passed when a 1d array was expected. Please change the shape of y to (n_samples, ), for example using ravel().\n",
      "  y = column_or_1d(y, warn=True)\n",
      "C:\\Users\\dania\\Anaconda3\\lib\\site-packages\\sklearn\\svm\\base.py:193: FutureWarning: The default value of gamma will change from 'auto' to 'scale' in version 0.22 to account better for unscaled features. Set gamma explicitly to 'auto' or 'scale' to avoid this warning.\n",
      "  \"avoid this warning.\", FutureWarning)\n"
     ]
    }
   ],
   "source": [
    "svm_preds = svm_predictions(All_data)\n",
    "all_preds[\"svm\"] = svm_preds"
   ]
  },
  {
   "cell_type": "code",
   "execution_count": 242,
   "metadata": {},
   "outputs": [
    {
     "name": "stderr",
     "output_type": "stream",
     "text": [
      "C:\\Users\\dania\\Anaconda3\\lib\\site-packages\\sklearn\\linear_model\\logistic.py:432: FutureWarning: Default solver will be changed to 'lbfgs' in 0.22. Specify a solver to silence this warning.\n",
      "  FutureWarning)\n",
      "C:\\Users\\dania\\Anaconda3\\lib\\site-packages\\sklearn\\utils\\validation.py:724: DataConversionWarning: A column-vector y was passed when a 1d array was expected. Please change the shape of y to (n_samples, ), for example using ravel().\n",
      "  y = column_or_1d(y, warn=True)\n"
     ]
    }
   ],
   "source": [
    "predictions = logistic_predictions(All_data)\n",
    "all_preds[\"LogisticRegression\"] = predictions"
   ]
  },
  {
   "cell_type": "code",
   "execution_count": 210,
   "metadata": {},
   "outputs": [
    {
     "name": "stdout",
     "output_type": "stream",
     "text": [
      "k 0.9198542805100182 correct\n",
      "bayes 0.819672131147541 correct\n",
      "svm 0.9049180327868852 correct\n",
      "LogisticRegression 0.8214936247723132 correct\n"
     ]
    }
   ],
   "source": [
    "for x in all_preds:\n",
    "    percent_correct = sum(np.array(All_data[3][\"Label\"]) == np.array(all_preds[x]))/len(All_data[3][\"Label\"])\n",
    "    print(str(x) +\" \"+ str(percent_correct) + \" correct\")"
   ]
  },
  {
   "cell_type": "code",
   "execution_count": 211,
   "metadata": {},
   "outputs": [
    {
     "name": "stdout",
     "output_type": "stream",
     "text": [
      "The mean squared error of k 0.08014571948998178\n",
      "The mean squared error of bayes 0.18032786885245902\n",
      "The mean squared error of svm 0.09508196721311475\n",
      "The mean squared error of LogisticRegression 0.1785063752276867\n"
     ]
    }
   ],
   "source": [
    "for x in all_preds:\n",
    "    print(\"The mean squared error of \"+str(x) + \" \"+ str(mean_squared_error(All_data[3][\"Label\"], all_preds[x])))"
   ]
  },
  {
   "cell_type": "markdown",
   "metadata": {},
   "source": [
    "The code that is running on the new data seems to be doing slightly better than the code with the old data. This is suprising to me I thought modes would decrease in accuaracy because it would be harder to label the data because the new data is more similar to the video data. I think maybe the patterns in new data may be more distinct than I thought."
   ]
  },
  {
   "cell_type": "markdown",
   "metadata": {},
   "source": [
    "## SVM MODEL "
   ]
  },
  {
   "cell_type": "code",
   "execution_count": 294,
   "metadata": {},
   "outputs": [],
   "source": [
    "def ml_model_svm(frames):\n",
    "    # global_varaiables for data storage\n",
    "    X_train_df =  None\n",
    "    X_test_df  = None\n",
    "    y_train_df = None\n",
    "    y_test_df = None\n",
    "\n",
    "    for f in frames:\n",
    "        #isolate features in frames\n",
    "        X = ff[[\"1->2Bytes\",\"2->1Bytes\"]]\n",
    "        \n",
    "        #isolate label\n",
    "        y = f[[\"Label\"]]\n",
    "        \n",
    "        #split data between training and test\n",
    "        X_train, X_test, y_train, y_test = train_test_split(X, y, test_size=0.3) \n",
    "       \n",
    "        #gatther data from all dataframes\n",
    "        X_train_df = pd.concat([X_train_df, X_train])\n",
    "        X_test_df = pd.concat([X_test_df, X_test])\n",
    "        y_train_df = pd.concat([y_train_df, y_train])\n",
    "        y_test_df = pd.concat([y_test_df, y_test])\n",
    "        \n",
    "        \n",
    "        \n",
    "    return [X_train_df,X_test_df,y_train_df,y_test_df]   "
   ]
  },
  {
   "cell_type": "code",
   "execution_count": 295,
   "metadata": {},
   "outputs": [],
   "source": [
    "def svm_1(ml_model_data):\n",
    "    clf = svm.SVC()\n",
    "    clf.fit(ml_model_data[0], ml_model_data[2])\n",
    "    predictions = clf.predict(ml_model_data[1])\n",
    "    return predictions "
   ]
  },
  {
   "cell_type": "code",
   "execution_count": 296,
   "metadata": {},
   "outputs": [
    {
     "name": "stderr",
     "output_type": "stream",
     "text": [
      "C:\\Users\\dania\\Anaconda3\\lib\\site-packages\\sklearn\\utils\\validation.py:724: DataConversionWarning: A column-vector y was passed when a 1d array was expected. Please change the shape of y to (n_samples, ), for example using ravel().\n",
      "  y = column_or_1d(y, warn=True)\n",
      "C:\\Users\\dania\\Anaconda3\\lib\\site-packages\\sklearn\\svm\\base.py:193: FutureWarning: The default value of gamma will change from 'auto' to 'scale' in version 0.22 to account better for unscaled features. Set gamma explicitly to 'auto' or 'scale' to avoid this warning.\n",
      "  \"avoid this warning.\", FutureWarning)\n"
     ]
    },
    {
     "data": {
      "text/plain": [
       "0.921311475409836"
      ]
     },
     "execution_count": 296,
     "metadata": {},
     "output_type": "execute_result"
    }
   ],
   "source": [
    "All_data = ml_model_data1(list_of_frames)\n",
    "new_b = svm_1(All_data)\n",
    "percent_correct = sum(np.array(All_data[3][\"Label\"]) == np.array(new_b))/len(All_data[3][\"Label\"])\n",
    "percent_correct"
   ]
  },
  {
   "cell_type": "code",
   "execution_count": 297,
   "metadata": {},
   "outputs": [],
   "source": [
    "tn, fp, fn, tp = confusion_matrix(All_data[3][\"Label\"], new_b).ravel()"
   ]
  },
  {
   "cell_type": "code",
   "execution_count": 298,
   "metadata": {},
   "outputs": [
    {
     "name": "stdout",
     "output_type": "stream",
     "text": [
      "The true negatives 2211\n",
      "The true positives 318\n",
      "The False positives 18\n",
      "The False negatives 198\n"
     ]
    }
   ],
   "source": [
    "print(\"The true negatives \" + str(tn))\n",
    "print(\"The true positives \" + str(tp))\n",
    "print(\"The False positives \" + str(fp))\n",
    "print(\"The False negatives \" + str(fn))"
   ]
  },
  {
   "cell_type": "code",
   "execution_count": 300,
   "metadata": {},
   "outputs": [
    {
     "data": {
      "text/html": [
       "<div>\n",
       "<style scoped>\n",
       "    .dataframe tbody tr th:only-of-type {\n",
       "        vertical-align: middle;\n",
       "    }\n",
       "\n",
       "    .dataframe tbody tr th {\n",
       "        vertical-align: top;\n",
       "    }\n",
       "\n",
       "    .dataframe thead th {\n",
       "        text-align: right;\n",
       "    }\n",
       "</style>\n",
       "<table border=\"1\" class=\"dataframe\">\n",
       "  <thead>\n",
       "    <tr style=\"text-align: right;\">\n",
       "      <th></th>\n",
       "      <th>Label</th>\n",
       "    </tr>\n",
       "  </thead>\n",
       "  <tbody>\n",
       "    <tr>\n",
       "      <td>247</td>\n",
       "      <td>1</td>\n",
       "    </tr>\n",
       "    <tr>\n",
       "      <td>25</td>\n",
       "      <td>1</td>\n",
       "    </tr>\n",
       "    <tr>\n",
       "      <td>246</td>\n",
       "      <td>1</td>\n",
       "    </tr>\n",
       "    <tr>\n",
       "      <td>91</td>\n",
       "      <td>1</td>\n",
       "    </tr>\n",
       "    <tr>\n",
       "      <td>313</td>\n",
       "      <td>1</td>\n",
       "    </tr>\n",
       "  </tbody>\n",
       "</table>\n",
       "</div>"
      ],
      "text/plain": [
       "     Label\n",
       "247      1\n",
       "25       1\n",
       "246      1\n",
       "91       1\n",
       "313      1"
      ]
     },
     "execution_count": 300,
     "metadata": {},
     "output_type": "execute_result"
    }
   ],
   "source": [
    "All_data[3][All_data[3][\"Label\"] != new_b].head()"
   ]
  },
  {
   "cell_type": "code",
   "execution_count": 301,
   "metadata": {},
   "outputs": [
    {
     "data": {
      "text/plain": [
       "array([1, 1, 1, 1, 1, 1, 1, 1, 1, 1], dtype=int64)"
      ]
     },
     "execution_count": 301,
     "metadata": {},
     "output_type": "execute_result"
    }
   ],
   "source": [
    "np.array(All_data[3][\"Label\"][:10])"
   ]
  },
  {
   "cell_type": "code",
   "execution_count": 302,
   "metadata": {},
   "outputs": [
    {
     "data": {
      "text/plain": [
       "array([0, 1, 1, 1, 0, 1, 0, 0, 1, 1], dtype=int64)"
      ]
     },
     "execution_count": 302,
     "metadata": {},
     "output_type": "execute_result"
    }
   ],
   "source": [
    "new_b[:10]"
   ]
  },
  {
   "cell_type": "code",
   "execution_count": null,
   "metadata": {},
   "outputs": [],
   "source": []
  }
 ],
 "metadata": {
  "kernelspec": {
   "display_name": "Python 3",
   "language": "python",
   "name": "python3"
  },
  "language_info": {
   "codemirror_mode": {
    "name": "ipython",
    "version": 3
   },
   "file_extension": ".py",
   "mimetype": "text/x-python",
   "name": "python",
   "nbconvert_exporter": "python",
   "pygments_lexer": "ipython3",
   "version": "3.7.4"
  }
 },
 "nbformat": 4,
 "nbformat_minor": 2
}
